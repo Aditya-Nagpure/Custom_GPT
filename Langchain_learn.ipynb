{
 "cells": [
  {
   "cell_type": "code",
   "execution_count": 2,
   "id": "d87910f8-5deb-489c-9f48-d0e91ad58fe7",
   "metadata": {},
   "outputs": [
    {
     "name": "stdout",
     "output_type": "stream",
     "text": [
      "Note: you may need to restart the kernel to use updated packages.\n"
     ]
    }
   ],
   "source": [
    "pip install -r ./requirements.txt -q"
   ]
  },
  {
   "cell_type": "code",
   "execution_count": 3,
   "id": "1f18f0c0-6323-4503-a4c6-509b8c36d85e",
   "metadata": {},
   "outputs": [
    {
     "name": "stdout",
     "output_type": "stream",
     "text": [
      "Name: openai\n",
      "Version: 1.52.2\n",
      "Summary: The official Python library for the openai API\n",
      "Home-page: https://github.com/openai/openai-python\n",
      "Author: \n",
      "Author-email: OpenAI <support@openai.com>\n",
      "License: \n",
      "Location: /Users/adi2/Library/Python/3.12/lib/python/site-packages\n",
      "Requires: anyio, distro, httpx, jiter, pydantic, sniffio, tqdm, typing-extensions\n",
      "Required-by: langchain-openai\n",
      "Note: you may need to restart the kernel to use updated packages.\n"
     ]
    }
   ],
   "source": [
    "#pip show openai"
   ]
  },
  {
   "cell_type": "markdown",
   "id": "d7f91014-d5b3-40dc-ab83-2fa9abc39d31",
   "metadata": {},
   "source": [
    "### Python-dotenv"
   ]
  },
  {
   "cell_type": "code",
   "execution_count": 6,
   "id": "7eae711f-33dd-4657-bfd6-c3af6e176a92",
   "metadata": {},
   "outputs": [
    {
     "data": {
      "text/plain": [
       "True"
      ]
     },
     "execution_count": 6,
     "metadata": {},
     "output_type": "execute_result"
    }
   ],
   "source": [
    "import os\n",
    "from dotenv import load_dotenv, find_dotenv\n",
    "load_dotenv(find_dotenv(), override=True)\n",
    "\n",
    "#os.environ.get('OPENAI_API_KEY')"
   ]
  },
  {
   "cell_type": "markdown",
   "id": "dfe9949e-146d-4952-861c-fb1f53e59761",
   "metadata": {},
   "source": [
    "### Chat Models: GPT 3.5 Turbo and GPT 4"
   ]
  },
  {
   "cell_type": "code",
   "execution_count": 14,
   "id": "77506b46-464d-4a8e-9c1a-c9483a0e23b4",
   "metadata": {},
   "outputs": [
    {
     "name": "stdout",
     "output_type": "stream",
     "text": [
      "The sky appears blue to us because of the way sunlight is scattered by the Earth's atmosphere. When sunlight reaches the Earth's atmosphere, it is made up of a spectrum of colors, with shorter wavelengths like blue and violet being scattered more easily by the gases and particles in the atmosphere. This scattering causes the blue light to spread out in all directions and fill the sky, giving it a blue appearance. This effect is known as Rayleigh scattering. Since our eyes are more sensitive to blue light, the sky appears blue to us.\n"
     ]
    }
   ],
   "source": [
    "from langchain_openai import ChatOpenAI\n",
    "\n",
    "llm = ChatOpenAI()\n",
    "output = llm.invoke('Explain why sky is blue? ')\n",
    "print(output.content)"
   ]
  },
  {
   "cell_type": "code",
   "execution_count": 21,
   "id": "137b1181-d7bb-467e-9cbd-dee6bff7ba74",
   "metadata": {},
   "outputs": [
    {
     "name": "stdout",
     "output_type": "stream",
     "text": [
      "आकाश नीला क्यों है, इसका कारण सूर्य की किरणों का वायुमंडल में छिड़काव होना है।\n"
     ]
    }
   ],
   "source": [
    "from langchain.schema import(\n",
    "     SystemMessage,\n",
    "     AIMessage,\n",
    "     HumanMessage\n",
    ")\n",
    "\n",
    "messages = [SystemMessage(content='Respond the answer only in hindi'),\n",
    "HumanMessage(content='explain why sky is blue in one sentence')]\n",
    "\n",
    "output = llm.invoke(messages)\n",
    "print(output.content)"
   ]
  },
  {
   "cell_type": "markdown",
   "id": "0111398b-2cdf-48dd-8223-ee26aed62de8",
   "metadata": {},
   "source": [
    "## Caching LLM Responses"
   ]
  },
  {
   "cell_type": "markdown",
   "id": "13c66a65-14e8-475f-bf46-10d60cb3f8c3",
   "metadata": {},
   "source": [
    "### In-Memory Cache\n"
   ]
  },
  {
   "cell_type": "code",
   "execution_count": 25,
   "id": "093af971-8f94-4d92-a5e9-95b824a0f18f",
   "metadata": {},
   "outputs": [],
   "source": [
    "from langchain.globals import set_llm_cache\n",
    "from langchain_openai import OpenAI\n",
    "llm = OpenAI(model_name='gpt-3.5-turbo-instruct')"
   ]
  },
  {
   "cell_type": "code",
   "execution_count": 26,
   "id": "dbc6abf4-e4ae-4c68-bcc8-7f5c90cd47e7",
   "metadata": {},
   "outputs": [
    {
     "name": "stdout",
     "output_type": "stream",
     "text": [
      "CPU times: user 1.03 s, sys: 562 ms, total: 1.59 s\n",
      "Wall time: 14.1 s\n"
     ]
    },
    {
     "data": {
      "text/plain": [
       "'\\n\\nWhy did the teddy bear say no to dessert?\\n\\nBecause he was already stuffed!'"
      ]
     },
     "execution_count": 26,
     "metadata": {},
     "output_type": "execute_result"
    }
   ],
   "source": [
    "%%time\n",
    "from langchain.cache import InMemoryCache\n",
    "set_llm_cache(InMemoryCache())\n",
    "prompt = 'tell me a joke that toddlers can understand'\n",
    "llm.invoke(prompt)\n"
   ]
  },
  {
   "cell_type": "code",
   "execution_count": 27,
   "id": "bdbcc601-6675-4b22-9d24-90109071b1f6",
   "metadata": {},
   "outputs": [
    {
     "name": "stdout",
     "output_type": "stream",
     "text": [
      "CPU times: user 370 μs, sys: 1 μs, total: 371 μs\n",
      "Wall time: 377 μs\n"
     ]
    },
    {
     "data": {
      "text/plain": [
       "'\\n\\nWhy did the teddy bear say no to dessert?\\n\\nBecause he was already stuffed!'"
      ]
     },
     "execution_count": 27,
     "metadata": {},
     "output_type": "execute_result"
    }
   ],
   "source": [
    "%%time\n",
    "llm.invoke(prompt)"
   ]
  },
  {
   "cell_type": "markdown",
   "id": "b3d1f53b-b06f-48c0-9abb-2166a5c7457b",
   "metadata": {},
   "source": [
    "### SQLite Caching"
   ]
  },
  {
   "cell_type": "code",
   "execution_count": 28,
   "id": "8c3e9cc6-5206-4117-931b-7e981d67b0f7",
   "metadata": {},
   "outputs": [
    {
     "data": {
      "text/plain": [
       "\"\\n\\nWhy couldn't the bicycle stand up by itself?\\n\\nBecause it was two-tired!\""
      ]
     },
     "execution_count": 28,
     "metadata": {},
     "output_type": "execute_result"
    }
   ],
   "source": [
    "from langchain.cache import SQLiteCache\n",
    "set_llm_cache(SQLiteCache(database_path=\".langchain.db\"))\n",
    "#first request (not in cache, takes longer)\n",
    "llm.invoke('tell me a joke')\n",
    "#second request (cached, faster)\n",
    "llm.invoke('tell me a joke')"
   ]
  },
  {
   "cell_type": "markdown",
   "id": "98ccf761-7798-4927-ba5f-3fd5b955bf2e",
   "metadata": {},
   "source": [
    "## LLM Streaming"
   ]
  },
  {
   "cell_type": "code",
   "execution_count": 33,
   "id": "f82a09b7-23e6-4651-acd6-9bbd3f769ed0",
   "metadata": {},
   "outputs": [
    {
     "name": "stdout",
     "output_type": "stream",
     "text": [
      "Happy birthday to you,\n",
      "Happy birthday to you,\n",
      "Happy birthday dear Aditya,\n",
      "Happy birthday to you.\n",
      "\n",
      "May your day be filled with joy,\n",
      "And your heart be light and free,\n",
      "May all your dreams come true,\n",
      "And all your wishes be.\n",
      "\n",
      "Happy birthday dear Aditya,\n",
      "Happy birthday to you,\n",
      "Wishing you all the best,\n",
      "In everything you do.\n"
     ]
    }
   ],
   "source": [
    "from langchain_openai import ChatOpenAI\n",
    "\n",
    "llm = ChatOpenAI()\n",
    "prompt = 'Write the lyrics of happy birthday, add name aditya to it.'\n",
    "print(llm.invoke(prompt).content)"
   ]
  },
  {
   "cell_type": "code",
   "execution_count": 34,
   "id": "f5d38789-ef0a-4c44-a9a1-6c2c440123a0",
   "metadata": {},
   "outputs": [
    {
     "name": "stdout",
     "output_type": "stream",
     "text": [
      "Happy birthday to you,\n",
      "Happy birthday to you,\n",
      "Happy birthday dear Aditya,\n",
      "Happy birthday to you!\n",
      "\n",
      "From good friends and true,\n",
      "From old friends and new,\n",
      "May good luck go with you,\n",
      "And happiness too."
     ]
    }
   ],
   "source": [
    "for chunk in llm.stream(prompt):\n",
    "    print(chunk.content, end='', flush=True)"
   ]
  },
  {
   "cell_type": "markdown",
   "id": "eea13748-4c72-4b9f-aa38-3adcee596f3b",
   "metadata": {},
   "source": [
    "## Prompt Templates"
   ]
  },
  {
   "cell_type": "code",
   "execution_count": 37,
   "id": "cd39f218-86c5-4cff-9a31-75d29b5d0105",
   "metadata": {},
   "outputs": [
    {
     "data": {
      "text/plain": [
       "'You are an experience virologist. Write a few sentences about the following virus \"hiv\" in spanish.'"
      ]
     },
     "execution_count": 37,
     "metadata": {},
     "output_type": "execute_result"
    }
   ],
   "source": [
    "from langchain.prompts import PromptTemplate\n",
    "from langchain_openai import ChatOpenAI\n",
    "template = '''You are an experience virologist. Write a few sentences about the following virus \"{virus}\" in {language}.'''\n",
    "prompt_template = PromptTemplate.from_template(template=template)\n",
    "prompt = prompt_template.format(virus='hiv', language='spanish')\n",
    "prompt\n"
   ]
  },
  {
   "cell_type": "code",
   "execution_count": 40,
   "id": "dedeb837-59d7-45dc-b8c4-1bb036eadf29",
   "metadata": {},
   "outputs": [
    {
     "name": "stdout",
     "output_type": "stream",
     "text": [
      "El VIH, o virus de la inmunodeficiencia humana, es un virus que ataca el sistema inmunológico del cuerpo humano, debilitando la capacidad del organismo para combatir infecciones y enfermedades. Se transmite principalmente a través de relaciones sexuales sin protección, compartir agujas contaminadas o de madre a hijo durante el embarazo, parto o lactancia. Aunque no tiene cura, el VIH puede ser controlado con medicamentos antirretrovirales que permiten a las personas llevar una vida saludable y prolongada.\n"
     ]
    }
   ],
   "source": [
    "llm = ChatOpenAI(model_name = 'gpt-3.5-turbo', temperature=0)\n",
    "output = llm.invoke(prompt)\n",
    "print(output.content)"
   ]
  },
  {
   "cell_type": "markdown",
   "id": "776e39dd-ef1c-4727-8138-06cad72e3807",
   "metadata": {},
   "source": [
    "### ChatPromptTemplates"
   ]
  },
  {
   "cell_type": "code",
   "execution_count": 41,
   "id": "b9d07f07-f33f-4c60-85a6-46b30bc0735a",
   "metadata": {},
   "outputs": [
    {
     "name": "stdout",
     "output_type": "stream",
     "text": [
      "[SystemMessage(content='You respond only in JSON format. ', additional_kwargs={}, response_metadata={}), HumanMessage(content='Top 10 countries in Europe by population.', additional_kwargs={}, response_metadata={})]\n"
     ]
    }
   ],
   "source": [
    "from langchain.prompts import ChatPromptTemplate, HumanMessagePromptTemplate\n",
    "from langchain_core.messages import SystemMessage\n",
    "\n",
    "chat_template = ChatPromptTemplate.from_messages(\n",
    "    [\n",
    "        SystemMessage(content='You respond only in JSON format. '),\n",
    "        HumanMessagePromptTemplate.from_template('Top {n} countries in {area} by population.')\n",
    "    ]\n",
    ")\n",
    "messages = chat_template.format_messages(n='10', area='Europe')\n",
    "print(messages)"
   ]
  },
  {
   "cell_type": "code",
   "execution_count": 44,
   "id": "ffb9c005-4004-45f5-924a-c80b58c1e23e",
   "metadata": {},
   "outputs": [
    {
     "name": "stdout",
     "output_type": "stream",
     "text": [
      "{\n",
      "    \"countries\": [\n",
      "        {\"country\": \"Germany\", \"population\": 83149300},\n",
      "        {\"country\": \"France\", \"population\": 67146000},\n",
      "        {\"country\": \"United Kingdom\", \"population\": 66040229},\n",
      "        {\"country\": \"Italy\", \"population\": 60483973},\n",
      "        {\"country\": \"Spain\", \"population\": 47100396},\n",
      "        {\"country\": \"Ukraine\", \"population\": 44385155},\n",
      "        {\"country\": \"Poland\", \"population\": 38433600},\n",
      "        {\"country\": \"Romania\", \"population\": 19317984},\n",
      "        {\"country\": \"Netherlands\", \"population\": 17181084},\n",
      "        {\"country\": \"Belgium\", \"population\": 11589623}\n",
      "    ]\n",
      "}\n"
     ]
    }
   ],
   "source": [
    "from langchain_openai import ChatOpenAI\n",
    "llm = ChatOpenAI()\n",
    "output= llm.invoke(messages)\n",
    "print(output.content)"
   ]
  },
  {
   "cell_type": "markdown",
   "id": "16d85889-a691-4362-bfbf-ad8507f48267",
   "metadata": {},
   "source": [
    "## Simple Chains"
   ]
  },
  {
   "cell_type": "code",
   "execution_count": 49,
   "id": "6ffa4dac-d569-4758-ab5c-1486ce8b255a",
   "metadata": {},
   "outputs": [
    {
     "name": "stdout",
     "output_type": "stream",
     "text": [
      "\n",
      "\n",
      "\u001b[1m> Entering new LLMChain chain...\u001b[0m\n",
      "Prompt after formatting:\n",
      "\u001b[32;1m\u001b[1;3mYou are an experience virologist. Write a few sentences about the following virus \"HSV\" in Hindi.\u001b[0m\n",
      "\n",
      "\u001b[1m> Finished chain.\u001b[0m\n"
     ]
    }
   ],
   "source": [
    "from langchain.prompts import PromptTemplate\n",
    "from langchain_openai import ChatOpenAI\n",
    "from langchain.chains import LLMChain\n",
    "\n",
    "llm = ChatOpenAI()\n",
    "template = '''You are an experience virologist. Write a few sentences about the following virus \"{virus}\" in {language}.'''\n",
    "prompt_template = PromptTemplate.from_template(template=template)\n",
    "\n",
    "\n",
    "chain = LLMChain(\n",
    "    llm=llm,\n",
    "    prompt=prompt_template,\n",
    "    verbose=True\n",
    ")\n",
    "\n",
    "output= chain.invoke({'virus': 'HSV', 'language':'Hindi'})\n"
   ]
  },
  {
   "cell_type": "code",
   "execution_count": 47,
   "id": "8007340d-ea57-45c2-a8b5-b26c316f3f53",
   "metadata": {},
   "outputs": [
    {
     "name": "stdout",
     "output_type": "stream",
     "text": [
      "{'virus': 'HSV', 'language': 'Hindi', 'text': 'HSV (Herpes Simplex Virus) एक बहुत ही सामान्य वायरस है जो आमतौर पर मुंह और योनि क्षेत्र में होता है। यह वायरस लगभग हर व्यक्ति के शरीर में मौजूद होता है, लेकिन कुछ लोगों में इसके लक्षण सामान्य होते हैं जबकि दूसरों में इसके लक्षण गंभीर हो सकते हैं। HSV का कोई इलाज नहीं है, लेकिन दवाओं और उचित देखभाल से इसका प्रबंधन किया जा सकता है।'}\n"
     ]
    }
   ],
   "source": [
    "print(output)"
   ]
  },
  {
   "cell_type": "code",
   "execution_count": 51,
   "id": "dcef27ff-a295-4510-ba6d-a5f3c26ca837",
   "metadata": {},
   "outputs": [
    {
     "name": "stdin",
     "output_type": "stream",
     "text": [
      "Enter Country:  US\n"
     ]
    },
    {
     "name": "stdout",
     "output_type": "stream",
     "text": [
      "\n",
      "\n",
      "\u001b[1m> Entering new LLMChain chain...\u001b[0m\n",
      "Prompt after formatting:\n",
      "\u001b[32;1m\u001b[1;3mwhat is the capital of US?. List the top 3 places to visit in that city. Use bullet points\u001b[0m\n",
      "\n",
      "\u001b[1m> Finished chain.\u001b[0m\n",
      "The capital of the US is Washington, D.C.\n",
      "\n",
      "- The White House\n",
      "- The National Mall (including the Lincoln Memorial, Washington Monument, and Capitol Building)\n",
      "- Smithsonian Institution (comprising numerous museums and galleries)\n"
     ]
    }
   ],
   "source": [
    "template = 'what is the capital of {country}?. List the top 3 places to visit in that city. Use bullet points'\n",
    "prompt_template = PromptTemplate.from_template(template=template)\n",
    "\n",
    "chain = LLMChain(\n",
    "    llm=llm,\n",
    "    prompt=prompt_template,\n",
    "    verbose=True\n",
    ")\n",
    "\n",
    "country = input('Enter Country: ')\n",
    "output = chain.invoke(country)\n",
    "print(output['text'])"
   ]
  },
  {
   "cell_type": "markdown",
   "id": "a69d8b6a-775c-47d0-9f30-3b760491548c",
   "metadata": {},
   "source": [
    "## Sequential Chain"
   ]
  },
  {
   "cell_type": "code",
   "execution_count": 52,
   "id": "9335c256-2e19-450f-a5bd-87ec19e71502",
   "metadata": {},
   "outputs": [
    {
     "name": "stdout",
     "output_type": "stream",
     "text": [
      "\n",
      "\n",
      "\u001b[1m> Entering new SimpleSequentialChain chain...\u001b[0m\n",
      "\u001b[36;1m\u001b[1;3mSure! Here is a Python function that implements linear regression:\n",
      "\n",
      "```python\n",
      "import numpy as np\n",
      "\n",
      "def linear_regression(X, y):\n",
      "    # Calculate the number of observations\n",
      "    n = len(X)\n",
      "    \n",
      "    # Calculate the mean of X and y\n",
      "    mean_x = np.mean(X)\n",
      "    mean_y = np.mean(y)\n",
      "    \n",
      "    # Calculate the slope (m) and y-intercept (b) of the regression line\n",
      "    numer = 0\n",
      "    denom = 0\n",
      "    for i in range(n):\n",
      "        numer += (X[i] - mean_x) * (y[i] - mean_y)\n",
      "        denom += (X[i] - mean_x) ** 2\n",
      "    m = numer / denom\n",
      "    b = mean_y - (m * mean_x)\n",
      "    \n",
      "    return m, b\n",
      "\n",
      "# Example usage\n",
      "X = [1, 2, 3, 4, 5]\n",
      "y = [2, 4, 5, 4, 5]\n",
      "m, b = linear_regression(X, y)\n",
      "print(f\"The regression line is y = {m}x + {b}\")\n",
      "```\n",
      "\n",
      "This function takes in two lists, `X` and `y`, representing the independent and dependent variables, respectively. It then calculates the slope and y-intercept of the regression line using the least squares method and returns these values. Finally, it prints out the equation of the regression line.\u001b[0m\n",
      "\u001b[33;1m\u001b[1;3mThe provided Python function, `linear_regression`, implements a fundamental operation in statistics and machine learning known as linear regression. This particular implementation calculates the parameters for the best-fitting straight line through a given set of data points defined by lists of x-values (`X`) and corresponding y-values (`y`). This best-fitting line is described by the equation `y = mx + b`, where `m` is the slope of the line and `b` is the y-intercept.\n",
      "\n",
      "Here's a detailed breakdown of how the function operates:\n",
      "\n",
      "1. **Import Statement**: The first line, `import numpy as np`, imports the NumPy library, a powerful numerical processing library in Python, renowned for its efficient array operations. The `np.mean()` method from this library is notably utilized within the function.\n",
      "\n",
      "2. **Function Definition**: The signature `def linear_regression(X, y):` defines the function with two parameters: `X` representing a list of independent variables (inputs), and `y` signifying a list of dependent variables (outputs).\n",
      "\n",
      "3. **Initialization and Means Calculation**:\n",
      "   - The variable `n` captures the number of observations (data points) by determining the length of the `X` list.\n",
      "   - `mean_x` and `mean_y` are assigned the mean values of the `X` and `y` lists, respectively, computed using the `np.mean()` function.\n",
      "\n",
      "4. **Slope (`m`) and Intercept (`b`) Calculation**:\n",
      "   - Two variables `numer` (numerator) and `denom` (denominator) are initialized to zero. These variables will be used in the calculation of the slope (`m`) of the line.\n",
      "   - A for-loop iterates through each index (`i`) of the lists. For each iteration:\n",
      "     - It updates `numer` by adding the product of the difference between `X[i]` and `mean_x` and the difference between `y[i]` and `mean_y` (contributing to the covariance between X and Y).\n",
      "     - Similarly, it updates `denom` by adding the square of the difference between `X[i]` and `mean_x` (contributing to the variance of X).\n",
      "   - After iterating through all the elements, the slope `m` is calculated by dividing `numer` by `denom`.\n",
      "   - The y-intercept `b` is calculated using the equation `b = mean_y - (m * mean_x)` adopting the line formula `y = mx + b`, rearranged to solve for `b`.\n",
      "\n",
      "5. **Return Values**: The function finally returns the slope (`m`) and the intercept (`b`) of the calculated regression line, which theoretically models the relationship between the `X` and `y` data points as linear.\n",
      "\n",
      "6. **Example Usage**:\n",
      "   - An example usage of the `linear_regression` function is illustrated, where `X = [1, 2, 3, 4, 5]` and `y = [2, 4, 5, 4, 5]` represent the input data.\n",
      "   - The function is called with these inputs, and it returns `m` and `b`, the slope and intercept of the line that best fits the given data.\n",
      "   - These results are then printed out to display the equation of the regression line in the format `y = mx + b`.\n",
      "\n",
      "Through calculating the slope and intercept via the least squares method (minimizing the sum of squared differences between observed and predicted values), this function implements a foundational strategy for predictive modeling, trend analysis, and data exploration.\u001b[0m\n",
      "\n",
      "\u001b[1m> Finished chain.\u001b[0m\n"
     ]
    }
   ],
   "source": [
    "from langchain import PromptTemplate\n",
    "from langchain_openai import ChatOpenAI\n",
    "from langchain.chains import LLMChain, SimpleSequentialChain\n",
    "\n",
    "llm1 = ChatOpenAI(model_name='gpt-3.5-turbo', temperature = 0.5)\n",
    "prompt_template1 = PromptTemplate.from_template(\n",
    "    template = 'you are an experienced scientist and python programmer. write a function that implements the concept of {concept}.'\n",
    ")\n",
    "chain1 = LLMChain(llm=llm1, prompt= prompt_template1)\n",
    "\n",
    "llm2 = ChatOpenAI(model_name='gpt-4-turbo-preview', temperature = 1.2)\n",
    "prompt_template2 = PromptTemplate.from_template(\n",
    "    template = 'given the python function {function}, describe it as detailed as possible.'\n",
    ")\n",
    "chain2 = LLMChain(llm=llm2, prompt=prompt_template2)\n",
    "\n",
    "overall_chain = SimpleSequentialChain(chains=[chain1, chain2], verbose=True)\n",
    "output= overall_chain.invoke('linear regression')"
   ]
  },
  {
   "cell_type": "code",
   "execution_count": 53,
   "id": "0f8b3dcb-089f-488d-9266-d2bfadf4ed23",
   "metadata": {},
   "outputs": [
    {
     "name": "stdout",
     "output_type": "stream",
     "text": [
      "The provided Python function, `linear_regression`, implements a fundamental operation in statistics and machine learning known as linear regression. This particular implementation calculates the parameters for the best-fitting straight line through a given set of data points defined by lists of x-values (`X`) and corresponding y-values (`y`). This best-fitting line is described by the equation `y = mx + b`, where `m` is the slope of the line and `b` is the y-intercept.\n",
      "\n",
      "Here's a detailed breakdown of how the function operates:\n",
      "\n",
      "1. **Import Statement**: The first line, `import numpy as np`, imports the NumPy library, a powerful numerical processing library in Python, renowned for its efficient array operations. The `np.mean()` method from this library is notably utilized within the function.\n",
      "\n",
      "2. **Function Definition**: The signature `def linear_regression(X, y):` defines the function with two parameters: `X` representing a list of independent variables (inputs), and `y` signifying a list of dependent variables (outputs).\n",
      "\n",
      "3. **Initialization and Means Calculation**:\n",
      "   - The variable `n` captures the number of observations (data points) by determining the length of the `X` list.\n",
      "   - `mean_x` and `mean_y` are assigned the mean values of the `X` and `y` lists, respectively, computed using the `np.mean()` function.\n",
      "\n",
      "4. **Slope (`m`) and Intercept (`b`) Calculation**:\n",
      "   - Two variables `numer` (numerator) and `denom` (denominator) are initialized to zero. These variables will be used in the calculation of the slope (`m`) of the line.\n",
      "   - A for-loop iterates through each index (`i`) of the lists. For each iteration:\n",
      "     - It updates `numer` by adding the product of the difference between `X[i]` and `mean_x` and the difference between `y[i]` and `mean_y` (contributing to the covariance between X and Y).\n",
      "     - Similarly, it updates `denom` by adding the square of the difference between `X[i]` and `mean_x` (contributing to the variance of X).\n",
      "   - After iterating through all the elements, the slope `m` is calculated by dividing `numer` by `denom`.\n",
      "   - The y-intercept `b` is calculated using the equation `b = mean_y - (m * mean_x)` adopting the line formula `y = mx + b`, rearranged to solve for `b`.\n",
      "\n",
      "5. **Return Values**: The function finally returns the slope (`m`) and the intercept (`b`) of the calculated regression line, which theoretically models the relationship between the `X` and `y` data points as linear.\n",
      "\n",
      "6. **Example Usage**:\n",
      "   - An example usage of the `linear_regression` function is illustrated, where `X = [1, 2, 3, 4, 5]` and `y = [2, 4, 5, 4, 5]` represent the input data.\n",
      "   - The function is called with these inputs, and it returns `m` and `b`, the slope and intercept of the line that best fits the given data.\n",
      "   - These results are then printed out to display the equation of the regression line in the format `y = mx + b`.\n",
      "\n",
      "Through calculating the slope and intercept via the least squares method (minimizing the sum of squared differences between observed and predicted values), this function implements a foundational strategy for predictive modeling, trend analysis, and data exploration.\n"
     ]
    }
   ],
   "source": [
    "print(output['output'])"
   ]
  },
  {
   "cell_type": "markdown",
   "id": "0992a557-3965-44d1-a8d4-4ac05a6ba7f2",
   "metadata": {},
   "source": [
    "## LangChain Agents in Action: Python REPL"
   ]
  },
  {
   "cell_type": "code",
   "execution_count": 54,
   "id": "a89d0883-6905-45ca-8c22-b3735915c862",
   "metadata": {},
   "outputs": [
    {
     "name": "stdout",
     "output_type": "stream",
     "text": [
      "Note: you may need to restart the kernel to use updated packages.\n"
     ]
    }
   ],
   "source": [
    "pip install -q langchain_experimental"
   ]
  },
  {
   "cell_type": "code",
   "execution_count": 55,
   "id": "d9dec625-5608-4400-8588-d3a63f713eac",
   "metadata": {},
   "outputs": [
    {
     "name": "stderr",
     "output_type": "stream",
     "text": [
      "Python REPL can execute arbitrary code. Use with caution.\n"
     ]
    },
    {
     "data": {
      "text/plain": [
       "'[13, 26, 39, 52, 65, 78, 91]\\n'"
      ]
     },
     "execution_count": 55,
     "metadata": {},
     "output_type": "execute_result"
    }
   ],
   "source": [
    "from langchain_experimental.utilities import PythonREPL\n",
    "python_repl = PythonREPL()\n",
    "python_repl.run('print([n for n in range(1, 100) if n%13==0])')"
   ]
  },
  {
   "cell_type": "code",
   "execution_count": 56,
   "id": "18dbff6a-3433-43e6-93f8-d5f978436f8f",
   "metadata": {},
   "outputs": [
    {
     "name": "stdout",
     "output_type": "stream",
     "text": [
      "\n",
      "\n",
      "\u001b[1m> Entering new AgentExecutor chain...\u001b[0m\n",
      "\u001b[32;1m\u001b[1;3mTo solve this, I need to calculate the factorial of 12 first, then find its square root, and finally format the result to display it with 4 decimal points. I can use the `math` module in Python to accomplish this, as it provides both factorial and square root functions.\n",
      "\n",
      "Action: Python_REPL\n",
      "Action Input: import math\u001b[0m\n",
      "Observation: \u001b[36;1m\u001b[1;3m\u001b[0m\n",
      "Thought:\u001b[32;1m\u001b[1;3mAction: Python_REPL\n",
      "Action Input: print(f\"{math.sqrt(math.factorial(12)):.4f}\")\u001b[0m\n",
      "Observation: \u001b[36;1m\u001b[1;3m21886.1052\n",
      "\u001b[0m\n",
      "Thought:\u001b[32;1m\u001b[1;3mI now know the final answer\n",
      "Final Answer: 21886.1052\u001b[0m\n",
      "\n",
      "\u001b[1m> Finished chain.\u001b[0m\n"
     ]
    },
    {
     "data": {
      "text/plain": [
       "{'input': 'Calculate the square root of the factorial of 12 and display it with 4 decimal points',\n",
       " 'output': '21886.1052'}"
      ]
     },
     "execution_count": 56,
     "metadata": {},
     "output_type": "execute_result"
    }
   ],
   "source": [
    "from langchain_experimental.agents.agent_toolkits import create_python_agent\n",
    "from langchain_experimental.tools.python.tool import PythonREPLTool\n",
    "from langchain_openai import ChatOpenAI\n",
    "\n",
    "llm = ChatOpenAI(model='gpt-4-turbo-preview', temperature=0)\n",
    "agent_executor = create_python_agent(\n",
    "    llm=llm,\n",
    "    tool=PythonREPLTool(),\n",
    "    verbose=True\n",
    ")\n",
    "agent_executor.invoke('Calculate the square root of the factorial of 12 and display it with 4 decimal points')\n"
   ]
  },
  {
   "cell_type": "code",
   "execution_count": 57,
   "id": "bea7a518-fab3-47b8-ac59-86d33f1dbe64",
   "metadata": {},
   "outputs": [
    {
     "name": "stdout",
     "output_type": "stream",
     "text": [
      "\n",
      "\n",
      "\u001b[1m> Entering new AgentExecutor chain...\u001b[0m\n",
      "\u001b[32;1m\u001b[1;3mI need to calculate 5.1 raised to the power of 7.3 to get the answer.\n",
      "Action: Python_REPL\n",
      "Action Input: print(5.1 ** 7.3)\u001b[0m\n",
      "Observation: \u001b[36;1m\u001b[1;3m146306.05007233328\n",
      "\u001b[0m\n",
      "Thought:\u001b[32;1m\u001b[1;3mI now know the final answer\n",
      "Final Answer: 146306.05007233328\u001b[0m\n",
      "\n",
      "\u001b[1m> Finished chain.\u001b[0m\n"
     ]
    }
   ],
   "source": [
    "response = agent_executor.invoke('what is answer to 5.1 ** 7.3 ?')"
   ]
  },
  {
   "cell_type": "code",
   "execution_count": 58,
   "id": "7ed26692-0a2c-49fb-ac3d-a01ace22906e",
   "metadata": {},
   "outputs": [
    {
     "data": {
      "text/plain": [
       "{'input': 'what is answer to 5.1 ** 7.3 ?', 'output': '146306.05007233328'}"
      ]
     },
     "execution_count": 58,
     "metadata": {},
     "output_type": "execute_result"
    }
   ],
   "source": [
    "response"
   ]
  },
  {
   "cell_type": "markdown",
   "id": "cbbc07f8-d66c-4544-9ebe-5624bf3a8df5",
   "metadata": {},
   "source": [
    "## LangChain Tools: DuckDuckGo and Wikipedia"
   ]
  },
  {
   "cell_type": "code",
   "execution_count": 59,
   "id": "5231907e-6185-4bcf-9495-d67a08b96b40",
   "metadata": {},
   "outputs": [
    {
     "name": "stdout",
     "output_type": "stream",
     "text": [
      "Note: you may need to restart the kernel to use updated packages.\n"
     ]
    }
   ],
   "source": [
    "pip install -q duckduckgo-search"
   ]
  },
  {
   "cell_type": "code",
   "execution_count": 60,
   "id": "58192e73-1d15-496a-9a0b-f5cd0644a98c",
   "metadata": {},
   "outputs": [
    {
     "name": "stdout",
     "output_type": "stream",
     "text": [
      "Spider-Man 4 is one of the MCU's most anticipated movies and plenty of recent reveals have helped to stoke the excitement. Spider-Man is one of Marvel's most bankable characters, with Spider-Man: No Way Home being the MCU's third-highest-grossing movie overall. With that in mind, it's no surprise that Marvel Studios and Sony are moving ahead with a fourth installment. Disney+ has thwipped up the first footage from Your Friendly Neighborhood Spider-Man.Marvel Studios unveiled a sizzle reel for its upcoming slate of 2025 TV projects, including first looks at the ... Bringing this new version of Peter Parker aka Spider-Man to high-flying life is Hudson Thames (The A-List), who previously voiced the character on Marvel Studios Animation's series, What If…? Link copied to clipboard. There are many upcoming Spider-Man movies and TV shows set to follow Tom Holland's Spider-Man: No Way Home and Spider-Man: Across The Spider-Verse. After 12 Spider-Man movies, the Marvel Universe is still expanding with the two separate universes now confirmed to be part of the same multiverse, with ties to the MCU ... The previous movie, 2021's Spider-Man No Way Home, is the seventh highest-grossing movie of all time at the global box office at $1.95 billion, and the third highest-grossing movie of all time ...\n"
     ]
    }
   ],
   "source": [
    "from langchain.tools import DuckDuckGoSearchRun\n",
    "\n",
    "search = DuckDuckGoSearchRun()\n",
    "output = search.invoke('what was the recent spider-man related movie?')\n",
    "print(output)"
   ]
  },
  {
   "cell_type": "code",
   "execution_count": 61,
   "id": "172350fd-e66b-45a6-ad9f-6e298735aab8",
   "metadata": {},
   "outputs": [
    {
     "data": {
      "text/plain": [
       "'duckduckgo_search'"
      ]
     },
     "execution_count": 61,
     "metadata": {},
     "output_type": "execute_result"
    }
   ],
   "source": [
    "search.name"
   ]
  },
  {
   "cell_type": "code",
   "execution_count": 62,
   "id": "2f1dd3d2-30da-42d7-812d-34916ebb2da3",
   "metadata": {},
   "outputs": [
    {
     "data": {
      "text/plain": [
       "'A wrapper around DuckDuckGo Search. Useful for when you need to answer questions about current events. Input should be a search query.'"
      ]
     },
     "execution_count": 62,
     "metadata": {},
     "output_type": "execute_result"
    }
   ],
   "source": [
    "search.description"
   ]
  },
  {
   "cell_type": "code",
   "execution_count": 64,
   "id": "65726114-d8e5-4d51-925a-009cfb5b9704",
   "metadata": {},
   "outputs": [
    {
     "name": "stdout",
     "output_type": "stream",
     "text": [
      "snippet: Warning: This article contains SPOILERS for Venom: The Last Dance. After 6 years of wild, occasionally gross story-telling, Tom Hardy's symbiote trilogy has come to an end with Venom: The Last Dance marking the end of an era.Marvel's most famous symbiote and his host first combined in 2018's Venom, kicking off Sony's Spider-Man Universe with a spirit of uproarious fun that skirted close to an ..., title: Venom: The Last Dance Ending Explained - Sony's Spider-Man Universe ..., link: https://screenrant.com/venom-3-ending-explained/, snippet: Of the three Spider-Man supporting characters featured in these movies, it's kind of surprising that Venom is the one best able to support more than one film. When Venom first appeared in the ..., title: Why 'Venom' Is the Only Sony Spider-Man Spinoff That Works - TIME, link: https://time.com/7098770/venom-the-last-dance-sony-spider-man/, snippet: Till death do they part. Tom Hardy returns in #Venom: The Last Dance - coming exclusively to theaters this October.Visit our site: https://venom.movie/Follow..., title: VENOM: THE LAST DANCE - Official Trailer (HD) - YouTube, link: https://www.youtube.com/watch?v=__2bjWbetsA, snippet: Venom: Let There Be Carnage is a 2021 American superhero film featuring the Marvel Comics character Venom.The sequel to Venom (2018) and the second film in Sony's Spider-Man Universe (SSU), it was directed by Andy Serkis from a screenplay by Kelly Marcel. Tom Hardy stars as Eddie Brock and Venom alongside Michelle Williams, Naomie Harris, Reid Scott, Stephen Graham, and Woody Harrelson., title: Venom: Let There Be Carnage - Wikipedia, link: https://en.wikipedia.org/wiki/Venom:_Let_There_Be_Carnage\n"
     ]
    }
   ],
   "source": [
    "from langchain.tools import DuckDuckGoSearchResults\n",
    "search = DuckDuckGoSearchResults()\n",
    "output = search.run('Spider-man and Venom')\n",
    "print(output)"
   ]
  },
  {
   "cell_type": "code",
   "execution_count": 65,
   "id": "c0b1a978-bd18-47e4-88ba-31acefa73d2a",
   "metadata": {},
   "outputs": [],
   "source": [
    "from langchain_community.utilities import DuckDuckGoSearchAPIWrapper\n",
    "\n",
    "wrapper = DuckDuckGoSearchAPIWrapper(region='de-de', max_results=3, safesearch='moderate')\n",
    "search = DuckDuckGoSearchResults(api_wrapper=wrapper, source ='news')\n",
    "output= search.run('Berlin')"
   ]
  },
  {
   "cell_type": "code",
   "execution_count": 66,
   "id": "3396243d-dcea-4703-93e5-b89548110596",
   "metadata": {},
   "outputs": [
    {
     "name": "stdout",
     "output_type": "stream",
     "text": [
      "snippet: Erfahren Sie mehr über die Geschichte, Geographie, Politik und Kultur der bevölkerungsreichsten und flächengrößten Stadt Deutschlands. Lesen Sie die wichtigsten Fakten, Daten und Sehenswürdigkeiten Berlins auf der Wikipedia-Seite., title: Berlin - Wikipedia, link: https://de.wikipedia.org/wiki/Berlin, snippet: Sie wollen heute ausgehen in Berlin und können sich bei der Vielfalt an Veranstaltungen nicht entscheiden? Die Redaktion gibt hier die besten Veranstaltungstipps für heute aus ausgewählten Kategorien: Events, Kunstausstellungen, Musical- und Konzert-Highlights, Kinderveranstaltungen, Theateraufführungen, Comedy, Kabarett und ..., title: Tagestipps: Heute in Berlin - Berlin.de, link: https://www.berlin.de/tickets/heute/, snippet: Die Dichte der Sehenswürdigkeiten in Berlin-Mitte ist erschlagend. Perfekt für sattelfeste Stadt-Entdecker: Backsteinhäuser und Plattenbauten im Nikolaiviertel, grüne Spielwiese im Großen Tiergarten, Großstadt-Atmosphäre am Potsdamer Platz oder gleich der Ortsteil Wedding als Gesamtkunstwerk., title: Berlin Sehenswürdigkeiten: Top-25-Liste mit Tipps & Bezirken, link: https://www.voucherwonderland.com/reisemagazin/top-20-sehenswuerdigkeiten-in-berlin/, snippet: Immer wieder eine Reise wert: Berlin ist im ständigen Wandel. Die Highlights und Neuheiten zwischen Ku'damm und Alexanderplatz, mit Karte. Die besten Aussichtsplätze und Sightseeing-Touren. Auf den Spuren der Berliner Mauer. Grünes Berlin am Tempelhofer Feld und im Park am Gleisdreieck, title: Sehenswürdigkeiten in Berlin: Die besten Tipps 2024 - mit Karte - ADAC, link: https://www.adac.de/reise-freizeit/reiseplanung/inspirationen/deutschland/sehenswuerdigkeiten-berlin/\n"
     ]
    }
   ],
   "source": [
    "print(output)"
   ]
  },
  {
   "cell_type": "code",
   "execution_count": 70,
   "id": "f9bee4f4-4096-4881-bb12-44a7b3977f68",
   "metadata": {},
   "outputs": [],
   "source": [
    "import re\n",
    "\n",
    "# Sample pattern that includes optional whitespace around commas and links\n",
    "pattern = r'snippet:\\s*(.*?),\\s*title:\\s*(.*?),\\s*link:\\s*(.*?)\\]'\n",
    "\n",
    "# Apply regex to extract all matches from the output\n",
    "matches = re.findall(pattern, output, re.DOTALL)\n",
    "\n",
    "# Print each match in the specified format\n",
    "for snippet, title, link in matches:\n",
    "    print(f'Snippet: {snippet}\\nTitle: {title}\\nLink: {link}\\n')\n",
    "    print('-' * 50)\n"
   ]
  },
  {
   "cell_type": "code",
   "execution_count": 73,
   "id": "654dfbce-e5e4-4dbd-9968-8c0ecc84dc58",
   "metadata": {},
   "outputs": [
    {
     "name": "stdout",
     "output_type": "stream",
     "text": [
      "Note: you may need to restart the kernel to use updated packages.\n"
     ]
    }
   ],
   "source": [
    "pip install -q wikipedia"
   ]
  },
  {
   "cell_type": "code",
   "execution_count": 75,
   "id": "ac83355c-0df3-4d9f-a8c7-6ec8a7bb8df4",
   "metadata": {},
   "outputs": [],
   "source": [
    "from langchain_community.tools import WikipediaQueryRun\n",
    "from langchain_community.utilities import WikipediaAPIWrapper"
   ]
  },
  {
   "cell_type": "code",
   "execution_count": 76,
   "id": "ddd47c3d-f430-4d37-98ff-89087bb5aae2",
   "metadata": {},
   "outputs": [
    {
     "data": {
      "text/plain": [
       "'Page: NebulaGraph\\nSummary: NebulaGraph is an open-source distributed graph database built for super '"
      ]
     },
     "execution_count": 76,
     "metadata": {},
     "output_type": "execute_result"
    }
   ],
   "source": [
    "api_wrapper = WikipediaAPIWrapper(top_k_results=1, doc_content_chars_max=100)\n",
    "wiki = WikipediaQueryRun(api_wrapper=api_wrapper)\n",
    "wiki.invoke({'query': 'llamaindex'})"
   ]
  },
  {
   "cell_type": "code",
   "execution_count": 77,
   "id": "646ab3cc-6c6c-4971-9f12-afbb7d334901",
   "metadata": {},
   "outputs": [
    {
     "data": {
      "text/plain": [
       "'Page: Gemini (chatbot)\\nSummary: Gemini, formerly known as Bard, is a generative artificial intellige'"
      ]
     },
     "execution_count": 77,
     "metadata": {},
     "output_type": "execute_result"
    }
   ],
   "source": [
    "wiki.invoke('Google Gemini')"
   ]
  },
  {
   "cell_type": "markdown",
   "id": "82360aa3-93fb-483c-aa6b-8ae6cdd83a11",
   "metadata": {},
   "source": [
    "### Creating a ReAct Agent"
   ]
  },
  {
   "cell_type": "code",
   "execution_count": 78,
   "id": "8be977f4-d335-4593-bf39-b4e72f640271",
   "metadata": {},
   "outputs": [
    {
     "name": "stdout",
     "output_type": "stream",
     "text": [
      "Note: you may need to restart the kernel to use updated packages.\n"
     ]
    }
   ],
   "source": [
    "pip install langchainhub -q"
   ]
  },
  {
   "cell_type": "code",
   "execution_count": 79,
   "id": "a3625c49-0e32-4fbf-be7d-90d49ff101ba",
   "metadata": {},
   "outputs": [
    {
     "data": {
      "text/plain": [
       "True"
      ]
     },
     "execution_count": 79,
     "metadata": {},
     "output_type": "execute_result"
    }
   ],
   "source": [
    "from dotenv import load_dotenv, find_dotenv\n",
    "load_dotenv(find_dotenv(), override=True)"
   ]
  },
  {
   "cell_type": "code",
   "execution_count": 97,
   "id": "594c8260-6e88-4597-bea7-1eb74b863ee9",
   "metadata": {},
   "outputs": [
    {
     "name": "stderr",
     "output_type": "stream",
     "text": [
      "/Users/adi2/Library/Python/3.12/lib/python/site-packages/langsmith/client.py:354: LangSmithMissingAPIKeyWarning: API key must be provided when using hosted LangSmith API\n",
      "  warnings.warn(\n"
     ]
    }
   ],
   "source": [
    "from langchain.prompts import PromptTemplate\n",
    "from langchain import hub\n",
    "from langchain.agents import Tool, AgentExecutor, initialize_agent, create_react_agent\n",
    "from langchain.tools import DuckDuckGoSearchRun, WikipediaQueryRun\n",
    "from langchain.utilities import WikipediaAPIWrapper\n",
    "from langchain_experimental.tools.python.tool import PythonREPLTool\n",
    "from langchain_openai import ChatOpenAI\n",
    "\n",
    "llm = ChatOpenAI(model_name='gpt-4-turbo-preview', temperature=0)\n",
    "template = '''\n",
    "Answer the following questions in Hindi as best as you can.\n",
    "Questions: {q}\n",
    "'''\n",
    "\n",
    "prompt_template = PromptTemplate.from_template(template)\n",
    "prompt = hub.pull('hwchase17/react')\n",
    "#print(type(prompt))\n",
    "#print(prompt.input_variables)\n",
    "#print(prompt.template)\n",
    "\n",
    "#1. python REPL tool for executing python code\n",
    "python_repl = PythonREPLTool()\n",
    "python_repl_tool = Tool(\n",
    "    name ='Python REPL',\n",
    "    func= python_repl.run,\n",
    "    description='Useful when you nedd to use Python to answer a question. You should input Python Code.'\n",
    ")\n",
    "    \n",
    "\n",
    "\n",
    "#2. Wikipedia tool for searching wikipedia\n",
    "api_wrapper = WikipediaAPIWrapper()\n",
    "wikipedia = WikipediaQueryRun(api_wrapper=api_wrapper)\n",
    "wikipedia_tool = Tool(\n",
    "    name ='Wikipedia',\n",
    "    func =wikipedia.run,\n",
    "    description ='Useful for when you need to look up a topic, country, or person on Wikipedia.'\n",
    ")\n",
    "\n",
    "#3. DuckDuckGo Search tool for general web search\n",
    "search = DuckDuckGoSearchRun()\n",
    "duckduckgo_tool = Tool(\n",
    "    name = 'DuckDuckGo Search',\n",
    "    func=search.run,\n",
    "    description='Useful for when you need to perform an internet search to find information that another tool can\\'t provide.'\n",
    ")\n",
    "\n",
    "tools = [python_repl_tool, wikipedia_tool, duckduckgo_tool]\n",
    "\n",
    "agent = create_react_agent(llm, tools, prompt)\n",
    "agent_executor = AgentExecutor(\n",
    "    agent = agent,\n",
    "    tools = tools,\n",
    "    verbose = True,\n",
    "    handle_parsing_errors = True,\n",
    "    max_iterations = 10\n",
    ")\n",
    "\n",
    "\n",
    "\n",
    "\n",
    "\n",
    "\n",
    "\n",
    "\n"
   ]
  },
  {
   "cell_type": "code",
   "execution_count": 98,
   "id": "2932c90d-e7ac-4fb9-a775-30a151be00fe",
   "metadata": {},
   "outputs": [
    {
     "name": "stdout",
     "output_type": "stream",
     "text": [
      "\n",
      "\n",
      "\u001b[1m> Entering new AgentExecutor chain...\u001b[0m\n",
      "\u001b[32;1m\u001b[1;3mTo answer this question in Hindi, I will first find information about Mahatma Gandhi's early life and then translate the key points into Hindi.\n",
      "\n",
      "Action: Wikipedia\n",
      "Action Input: Mahatma Gandhi\u001b[0m\u001b[33;1m\u001b[1;3mPage: Mahatma Gandhi\n",
      "Summary: Mohandas Karamchand Gandhi (ISO: Mōhanadāsa Karamacaṁda Gāṁdhī; 2 October 1869 – 30 January 1948) was an Indian lawyer, anti-colonial nationalist, and political ethicist who employed nonviolent resistance to lead the successful campaign for India's independence from British rule. He inspired movements for civil rights and freedom across the world. The honorific Mahātmā (Sanskrit: महात्मा, meaning great-souled/venerable), first applied to him in South Africa in 1914, is now used throughout the world.\n",
      "Born and raised in a Hindu family in coastal Gujarat, Gandhi trained in the law at the Inner Temple in London and was called to the bar in June 1891, at the age of 22. After two uncertain years in India, where he was unable to start a successful law practice, Gandhi moved to South Africa in 1893 to represent an Indian merchant in a lawsuit. He went on to live in South Africa for 21 years. There, Gandhi raised a family and first employed nonviolent resistance in a campaign for civil rights. In 1915, aged 45, he returned to India and soon set about organising peasants, farmers, and urban labourers to protest against discrimination and excessive land-tax.\n",
      "Assuming leadership of the Indian National Congress in 1921, Gandhi led nationwide campaigns for easing poverty, expanding women's rights, building religious and ethnic amity, ending untouchability, and, above all, achieving swaraj or self-rule. Gandhi adopted the short dhoti woven with hand-spun yarn as a mark of identification with India's rural poor. He began to live in a self-sufficient residential community, to eat simple food, and undertake long fasts as a means of both introspection and political protest. Bringing anti-colonial nationalism to the common Indians, Gandhi led them in challenging the British-imposed salt tax with the 400 km (250 mi) Dandi Salt March in 1930 and in calling for the British to quit India in 1942. He was imprisoned many times and for many years in both South Africa and India.\n",
      "Gandhi's vision of an independent India based on religious pluralism was challenged in the early 1940s by a Muslim nationalism which demanded a separate homeland for Muslims within British India. In August 1947, Britain granted independence, but the British Indian Empire was partitioned into two dominions, a Hindu-majority India and a Muslim-majority Pakistan. As many displaced Hindus, Muslims, and Sikhs made their way to their new lands, religious violence broke out, especially in the Punjab and Bengal. Abstaining from the official celebration of independence, Gandhi visited the affected areas, attempting to alleviate distress. In the months following, he undertook several hunger strikes to stop the religious violence. The last of these was begun in Delhi on 12 January 1948, when Gandhi was 78. The belief that Gandhi had been too resolute in his defence of both Pakistan and Indian Muslims spread among some Hindus in India. Among these was Nathuram Godse, a militant Hindu nationalist from Pune, western India, who assassinated Gandhi by firing three bullets into his chest at an interfaith prayer meeting in Delhi on 30 January 1948. \n",
      "Gandhi's birthday, 2 October, is commemorated in India as Gandhi Jayanti, a national holiday, and worldwide as the International Day of Nonviolence. Gandhi is considered to be the Father of the Nation in post-colonial India. During India's nationalist movement and in several decades immediately after, he was also commonly called Bapu, an endearment roughly meaning \"father\".\n",
      "\n",
      "Page: Assassination of Mahatma Gandhi\n",
      "Summary: Mahatma Gandhi was assassinated on 30 January 1948 at age 78 in the compound of The Birla House (now Gandhi Smriti), a large mansion in central New Delhi. His assassin was Nathuram Godse, from Pune, Maharashtra, a Hindutva activist, a member of the Rashtriya Swayamsevak Sangh (RSS), a right-wing Hindu paramilitary organization as well as a member of the Hindu Mahasabha.\n",
      "Sometime after 5 PM, according to wi\u001b[0m\u001b[32;1m\u001b[1;3mI now have information about Mahatma Gandhi's early life. I will translate the key points into Hindi for the answer.\n",
      "\n",
      "Final Answer: महात्मा गांधी का जन्म 2 अक्टूबर 1869 को गुजरात के एक हिन्दू परिवार में हुआ था। उन्होंने लंदन में इनर टेम्पल में कानून की पढ़ाई की और जून 1891 में, 22 वर्ष की आयु में, बार में बुलाया गया। भारत में दो अनिश्चित वर्षों के बाद, जहाँ वे एक सफल कानूनी अभ्यास शुरू करने में असमर्थ थे, गांधी 1893 में एक भारतीय व्यापारी के मुकदमे का प्रतिनिधित्व करने के लिए दक्षिण अफ्रीका चले गए। वहाँ उन्होंने 21 वर्ष बिताए। दक्षिण अफ्रीका में, गांधी ने एक परिवार की स्थापना की और पहली बार नागरिक अधिकारों के लिए एक अहिंसात्मक प्रतिरोध अभियान में नागरिक अधिकारों के लिए अहिंसात्मक प्रतिरोध का इस्तेमाल किया। 1915 में, 45 वर्ष की आयु में, वे भारत लौटे और जल्द ही किसानों, कृषकों और शहरी मजदूरों को भेदभाव और अत्यधिक भूमि-कर के विरुद्ध प्रदर्शन करने के लिए संगठित करने में जुट गए।\u001b[0m\n",
      "\n",
      "\u001b[1m> Finished chain.\u001b[0m\n"
     ]
    }
   ],
   "source": [
    "#question= 'Generate the first 10 numebers in the fibonacci series.'\n",
    "#question = 'who is the current president of US'\n",
    "question= 'Tell me about early life of Mahatma Gandhi'\n",
    "output= agent_executor.invoke({\n",
    "    'input': prompt_template.format(q=question)\n",
    "})"
   ]
  },
  {
   "cell_type": "code",
   "execution_count": 99,
   "id": "45586fe5-f6af-45cc-96fb-274a1b24a952",
   "metadata": {},
   "outputs": [
    {
     "name": "stdout",
     "output_type": "stream",
     "text": [
      "\n",
      "Answer the following questions in Hindi as best as you can.\n",
      "Questions: Tell me about early life of Mahatma Gandhi\n",
      "\n"
     ]
    }
   ],
   "source": [
    "print(output['input'])"
   ]
  },
  {
   "cell_type": "code",
   "execution_count": 100,
   "id": "e5c2bdad-4f20-4f7f-b99a-7a768bd3a8c7",
   "metadata": {},
   "outputs": [
    {
     "data": {
      "text/plain": [
       "'महात्मा गांधी का जन्म 2 अक्टूबर 1869 को गुजरात के एक हिन्दू परिवार में हुआ था। उन्होंने लंदन में इनर टेम्पल में कानून की पढ़ाई की और जून 1891 में, 22 वर्ष की आयु में, बार में बुलाया गया। भारत में दो अनिश्चित वर्षों के बाद, जहाँ वे एक सफल कानूनी अभ्यास शुरू करने में असमर्थ थे, गांधी 1893 में एक भारतीय व्यापारी के मुकदमे का प्रतिनिधित्व करने के लिए दक्षिण अफ्रीका चले गए। वहाँ उन्होंने 21 वर्ष बिताए। दक्षिण अफ्रीका में, गांधी ने एक परिवार की स्थापना की और पहली बार नागरिक अधिकारों के लिए एक अहिंसात्मक प्रतिरोध अभियान में नागरिक अधिकारों के लिए अहिंसात्मक प्रतिरोध का इस्तेमाल किया। 1915 में, 45 वर्ष की आयु में, वे भारत लौटे और जल्द ही किसानों, कृषकों और शहरी मजदूरों को भेदभाव और अत्यधिक भूमि-कर के विरुद्ध प्रदर्शन करने के लिए संगठित करने में जुट गए।'"
      ]
     },
     "execution_count": 100,
     "metadata": {},
     "output_type": "execute_result"
    }
   ],
   "source": [
    "output['output']"
   ]
  },
  {
   "cell_type": "code",
   "execution_count": null,
   "id": "257bcf8c-50b9-4ea0-bd56-db39de0bf1a2",
   "metadata": {},
   "outputs": [],
   "source": []
  }
 ],
 "metadata": {
  "kernelspec": {
   "display_name": "Python 3 (ipykernel)",
   "language": "python",
   "name": "python3"
  },
  "language_info": {
   "codemirror_mode": {
    "name": "ipython",
    "version": 3
   },
   "file_extension": ".py",
   "mimetype": "text/x-python",
   "name": "python",
   "nbconvert_exporter": "python",
   "pygments_lexer": "ipython3",
   "version": "3.12.0"
  }
 },
 "nbformat": 4,
 "nbformat_minor": 5
}
