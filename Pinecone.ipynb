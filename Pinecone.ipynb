{
 "cells": [
  {
   "cell_type": "markdown",
   "id": "8b7e6e66-3afd-4977-9d7b-fe178935feb5",
   "metadata": {},
   "source": [
    "## Pinecone"
   ]
  },
  {
   "cell_type": "code",
   "execution_count": 45,
   "id": "2e2e8823-d5df-44ba-8c59-34ddd2855a91",
   "metadata": {},
   "outputs": [
    {
     "data": {
      "text/plain": [
       "True"
      ]
     },
     "execution_count": 45,
     "metadata": {},
     "output_type": "execute_result"
    }
   ],
   "source": [
    "import os\n",
    "from dotenv import load_dotenv, find_dotenv\n",
    "load_dotenv(find_dotenv(), override=True)"
   ]
  },
  {
   "cell_type": "code",
   "execution_count": 46,
   "id": "85d807b3-bbe3-47e6-98e8-c3dbe2216297",
   "metadata": {},
   "outputs": [
    {
     "name": "stdout",
     "output_type": "stream",
     "text": [
      "Note: you may need to restart the kernel to use updated packages.\n"
     ]
    }
   ],
   "source": [
    "pip install -q pinecone-client"
   ]
  },
  {
   "cell_type": "code",
   "execution_count": 47,
   "id": "967d9c92-71ec-4b1d-bbb3-927d9be82c5c",
   "metadata": {},
   "outputs": [
    {
     "name": "stdout",
     "output_type": "stream",
     "text": [
      "Note: you may need to restart the kernel to use updated packages.\n"
     ]
    }
   ],
   "source": [
    "pip install --upgrade -q pinecone-client"
   ]
  },
  {
   "cell_type": "code",
   "execution_count": 48,
   "id": "dc9411b8-d284-4402-a849-12ccc0b03b25",
   "metadata": {
    "scrolled": true
   },
   "outputs": [
    {
     "name": "stdout",
     "output_type": "stream",
     "text": [
      "Name: pinecone-client\n",
      "Version: 5.0.1\n",
      "Summary: Pinecone client and SDK\n",
      "Home-page: https://www.pinecone.io\n",
      "Author: Pinecone Systems, Inc.\n",
      "Author-email: support@pinecone.io\n",
      "License: Apache-2.0\n",
      "Location: /Users/adi2/Library/Python/3.12/lib/python/site-packages\n",
      "Requires: certifi, pinecone-plugin-inference, pinecone-plugin-interface, tqdm, typing-extensions, urllib3\n",
      "Required-by: \n",
      "Note: you may need to restart the kernel to use updated packages.\n"
     ]
    }
   ],
   "source": [
    "pip show pinecone-client"
   ]
  },
  {
   "cell_type": "code",
   "execution_count": 64,
   "id": "e6632cd3-7eff-448d-9546-6d3fde1f2345",
   "metadata": {},
   "outputs": [
    {
     "name": "stdout",
     "output_type": "stream",
     "text": [
      "Defaulting to user installation because normal site-packages is not writeable\n",
      "Requirement already satisfied: pinecone-client[grpc] in /Users/adi2/Library/Python/3.12/lib/python/site-packages (5.0.1)\n",
      "Requirement already satisfied: certifi>=2019.11.17 in /Users/adi2/Library/Python/3.12/lib/python/site-packages (from pinecone-client[grpc]) (2024.7.4)\n",
      "Collecting googleapis-common-protos>=1.53.0 (from pinecone-client[grpc])\n",
      "  Downloading googleapis_common_protos-1.65.0-py2.py3-none-any.whl.metadata (1.5 kB)\n",
      "Collecting grpcio>=1.59.0 (from pinecone-client[grpc])\n",
      "  Downloading grpcio-1.67.1-cp312-cp312-macosx_10_9_universal2.whl.metadata (3.9 kB)\n",
      "Collecting lz4>=3.1.3 (from pinecone-client[grpc])\n",
      "  Downloading lz4-4.3.3-cp312-cp312-macosx_10_9_x86_64.whl.metadata (3.7 kB)\n",
      "Requirement already satisfied: pinecone-plugin-inference<2.0.0,>=1.0.3 in /Users/adi2/Library/Python/3.12/lib/python/site-packages (from pinecone-client[grpc]) (1.1.0)\n",
      "Requirement already satisfied: pinecone-plugin-interface<0.0.8,>=0.0.7 in /Users/adi2/Library/Python/3.12/lib/python/site-packages (from pinecone-client[grpc]) (0.0.7)\n",
      "Collecting protobuf<5.0,>=4.25 (from pinecone-client[grpc])\n",
      "  Downloading protobuf-4.25.5-cp37-abi3-macosx_10_9_universal2.whl.metadata (541 bytes)\n",
      "Collecting protoc-gen-openapiv2<0.0.2,>=0.0.1 (from pinecone-client[grpc])\n",
      "  Downloading protoc_gen_openapiv2-0.0.1-py3-none-any.whl.metadata (1.5 kB)\n",
      "Requirement already satisfied: tqdm>=4.64.1 in /Users/adi2/Library/Python/3.12/lib/python/site-packages (from pinecone-client[grpc]) (4.66.5)\n",
      "Requirement already satisfied: typing-extensions>=3.7.4 in /Users/adi2/Library/Python/3.12/lib/python/site-packages (from pinecone-client[grpc]) (4.12.2)\n",
      "Requirement already satisfied: urllib3>=1.26.5 in /Users/adi2/Library/Python/3.12/lib/python/site-packages (from pinecone-client[grpc]) (2.2.2)\n",
      "Downloading googleapis_common_protos-1.65.0-py2.py3-none-any.whl (220 kB)\n",
      "Downloading grpcio-1.67.1-cp312-cp312-macosx_10_9_universal2.whl (11.0 MB)\n",
      "\u001b[2K   \u001b[90m━━━━━━━━━━━━━━━━━━━━━━━━━━━━━━━━━━━━━━━━\u001b[0m \u001b[32m11.0/11.0 MB\u001b[0m \u001b[31m6.0 MB/s\u001b[0m eta \u001b[36m0:00:00\u001b[0ma \u001b[36m0:00:01\u001b[0m\n",
      "\u001b[?25hDownloading lz4-4.3.3-cp312-cp312-macosx_10_9_x86_64.whl (254 kB)\n",
      "Downloading protobuf-4.25.5-cp37-abi3-macosx_10_9_universal2.whl (394 kB)\n",
      "Downloading protoc_gen_openapiv2-0.0.1-py3-none-any.whl (7.9 kB)\n",
      "Installing collected packages: protobuf, lz4, grpcio, googleapis-common-protos, protoc-gen-openapiv2\n",
      "Successfully installed googleapis-common-protos-1.65.0 grpcio-1.67.1 lz4-4.3.3 protobuf-4.25.5 protoc-gen-openapiv2-0.0.1\n",
      "Note: you may need to restart the kernel to use updated packages.\n"
     ]
    }
   ],
   "source": [
    "pip install \"pinecone-client[grpc]\"\n"
   ]
  },
  {
   "cell_type": "code",
   "execution_count": 69,
   "id": "21d987df-6e64-49e5-995f-54874a261137",
   "metadata": {},
   "outputs": [
    {
     "name": "stdout",
     "output_type": "stream",
     "text": [
      "Pinecone API Key: pcsk_6ZB9HU_2Jxhn6bRfk7EfEc9b1dkysGKGNLGmKWzFinUcAvt2Bp1SPeTPiWKJHtspfH6y7f\n"
     ]
    }
   ],
   "source": [
    "import os\n",
    "\n",
    "pinecone_api_key = os.getenv(\"PINECONE_API_KEY\")\n",
    "print(f\"Pinecone API Key: {pinecone_api_key}\")  # Debug line\n"
   ]
  },
  {
   "cell_type": "code",
   "execution_count": 70,
   "id": "e2e5d3c0-1e87-4945-91ca-41ce3b76ff47",
   "metadata": {},
   "outputs": [
    {
     "name": "stdout",
     "output_type": "stream",
     "text": [
      "{'indexes': []}\n"
     ]
    }
   ],
   "source": [
    "from pinecone import Pinecone\n",
    "\n",
    "pc = Pinecone(api_key=pinecone_api_key)\n",
    "print(pc.list_indexes())\n"
   ]
  },
  {
   "cell_type": "code",
   "execution_count": null,
   "id": "7f42b256-a393-47b8-9665-155aa3e6cb96",
   "metadata": {},
   "outputs": [],
   "source": [
    "from pinecone.grpc import PineconeGRPC as Pinecone\n",
    "from pinecone import ServerlessSpec\n",
    "\n",
    "pc = Pinecone(api_key=pinecone_api_key)\n",
    "\n",
    "pc.create_index(\n",
    "  name=\"example-index1\",\n",
    "  dimension=1536,\n",
    "  metric=\"cosine\",\n",
    "  spec=ServerlessSpec(\n",
    "    cloud=\"aws\",\n",
    "    region=\"us-east-1\",\n",
    "  ),\n",
    "  deletion_protection=\"disabled\"\n",
    ")"
   ]
  },
  {
   "cell_type": "code",
   "execution_count": 90,
   "id": "6dbd8640-af4b-4f19-b322-e6cf5996756b",
   "metadata": {},
   "outputs": [
    {
     "data": {
      "text/plain": [
       "'example-index1'"
      ]
     },
     "execution_count": 90,
     "metadata": {},
     "output_type": "execute_result"
    }
   ],
   "source": [
    "pc.list_indexes()[0]['name']"
   ]
  },
  {
   "cell_type": "code",
   "execution_count": 92,
   "id": "1f0f9c79-9da3-49f6-9277-6384f14b1ff0",
   "metadata": {},
   "outputs": [
    {
     "data": {
      "text/plain": [
       "{'deletion_protection': 'disabled',\n",
       " 'dimension': 1536,\n",
       " 'host': 'example-index1-908qlj6.svc.aped-4627-b74a.pinecone.io',\n",
       " 'metric': 'cosine',\n",
       " 'name': 'example-index1',\n",
       " 'spec': {'serverless': {'cloud': 'aws', 'region': 'us-east-1'}},\n",
       " 'status': {'ready': True, 'state': 'Ready'}}"
      ]
     },
     "execution_count": 92,
     "metadata": {},
     "output_type": "execute_result"
    }
   ],
   "source": [
    "pc.describe_index('example-index1')"
   ]
  },
  {
   "cell_type": "code",
   "execution_count": 93,
   "id": "b401e979-2d6b-48c9-b213-03d0cbe5da19",
   "metadata": {},
   "outputs": [
    {
     "data": {
      "text/plain": [
       "{'dimension': 1536,\n",
       " 'index_fullness': 0.0,\n",
       " 'namespaces': {'': {'vector_count': 0}},\n",
       " 'total_vector_count': 0}"
      ]
     },
     "execution_count": 93,
     "metadata": {},
     "output_type": "execute_result"
    }
   ],
   "source": [
    "index = pc.Index(index_name)\n",
    "index.describe_index_stats()"
   ]
  },
  {
   "cell_type": "markdown",
   "id": "0ea55752-c980-46a8-b882-8cfa12c4001a",
   "metadata": {},
   "source": [
    "## Working with Vectors"
   ]
  },
  {
   "cell_type": "code",
   "execution_count": 95,
   "id": "7388972c-e0c0-4e94-a230-9ea9d8b627b9",
   "metadata": {},
   "outputs": [
    {
     "data": {
      "text/plain": [
       "upserted_count: 5"
      ]
     },
     "execution_count": 95,
     "metadata": {},
     "output_type": "execute_result"
    }
   ],
   "source": [
    "#inserting vectors\n",
    "import random\n",
    "vectors = [[random.random() for _ in range(1536)] for v in range(5)]\n",
    "#print(vectors)\n",
    "ids=list('abcde')\n",
    "index_name = 'example-index1'\n",
    "index= pc.Index(index_name)\n",
    "\n",
    "index.upsert(vectors=zip(ids, vectors))"
   ]
  },
  {
   "cell_type": "code",
   "execution_count": 97,
   "id": "3f5d1323-0c59-4d34-ac0e-7ed439f6e8fd",
   "metadata": {},
   "outputs": [
    {
     "data": {
      "text/plain": [
       "upserted_count: 1"
      ]
     },
     "execution_count": 97,
     "metadata": {},
     "output_type": "execute_result"
    }
   ],
   "source": [
    "#updating vectors\n",
    "index.upsert(vectors=[('c', [0.5] * 1536)])"
   ]
  },
  {
   "cell_type": "code",
   "execution_count": 99,
   "id": "43abb568-dc27-4c75-84f3-13504c01ae47",
   "metadata": {},
   "outputs": [],
   "source": [
    "#fetching vectors\n",
    "#index = pc.Index(index_name)\n",
    "#index.fetch(ids=['c', 'd'])"
   ]
  },
  {
   "cell_type": "code",
   "execution_count": 100,
   "id": "612c6035-6a61-4cce-9825-6023ad6e6028",
   "metadata": {},
   "outputs": [
    {
     "data": {
      "text/plain": []
     },
     "execution_count": 100,
     "metadata": {},
     "output_type": "execute_result"
    }
   ],
   "source": [
    "#deleting vectors\n",
    "index.delete(ids=['b', 'c'])"
   ]
  },
  {
   "cell_type": "code",
   "execution_count": 101,
   "id": "cccaca84-87a3-470f-9d80-4ad9aea4f6b8",
   "metadata": {},
   "outputs": [
    {
     "data": {
      "text/plain": [
       "{'dimension': 1536,\n",
       " 'index_fullness': 0.0,\n",
       " 'namespaces': {'': {'vector_count': 3}},\n",
       " 'total_vector_count': 3}"
      ]
     },
     "execution_count": 101,
     "metadata": {},
     "output_type": "execute_result"
    }
   ],
   "source": [
    "index.describe_index_stats()"
   ]
  },
  {
   "cell_type": "code",
   "execution_count": 102,
   "id": "fde23c0c-4698-4f58-a229-578f4b6cfe27",
   "metadata": {},
   "outputs": [
    {
     "data": {
      "text/plain": [
       "{'namespace': '', 'usage': {'read_units': 1}, 'vectors': {}}"
      ]
     },
     "execution_count": 102,
     "metadata": {},
     "output_type": "execute_result"
    }
   ],
   "source": [
    "index.fetch(ids=['x'])"
   ]
  },
  {
   "cell_type": "code",
   "execution_count": 103,
   "id": "441f9eb1-f3b4-4e6c-8f35-baccaba81cff",
   "metadata": {},
   "outputs": [],
   "source": [
    "#query\n",
    "query_vector = [random.random() for _ in range(1536)]"
   ]
  },
  {
   "cell_type": "code",
   "execution_count": 105,
   "id": "b1de1358-d13e-4591-8b87-ab18da99f397",
   "metadata": {},
   "outputs": [
    {
     "data": {
      "text/plain": [
       "{'matches': [{'id': 'd',\n",
       "              'metadata': None,\n",
       "              'score': 0.7483395,\n",
       "              'sparse_values': {'indices': [], 'values': []},\n",
       "              'values': []},\n",
       "             {'id': 'a',\n",
       "              'metadata': None,\n",
       "              'score': 0.7481721,\n",
       "              'sparse_values': {'indices': [], 'values': []},\n",
       "              'values': []},\n",
       "             {'id': 'e',\n",
       "              'metadata': None,\n",
       "              'score': 0.7358668,\n",
       "              'sparse_values': {'indices': [], 'values': []},\n",
       "              'values': []}],\n",
       " 'namespace': '',\n",
       " 'usage': {'read_units': 5}}"
      ]
     },
     "execution_count": 105,
     "metadata": {},
     "output_type": "execute_result"
    }
   ],
   "source": [
    "index.query(\n",
    "    vector=query_vector,\n",
    "    top_k=3,\n",
    "    include_values=False\n",
    ")"
   ]
  },
  {
   "cell_type": "markdown",
   "id": "8625c56d-3c04-437b-b5cc-f4fd1ab93faf",
   "metadata": {},
   "source": [
    "## Namespaces"
   ]
  },
  {
   "cell_type": "code",
   "execution_count": 106,
   "id": "20b6a73e-59e4-44f8-a6f8-ebb32ebf0cfd",
   "metadata": {},
   "outputs": [
    {
     "data": {
      "text/plain": [
       "upserted_count: 5"
      ]
     },
     "execution_count": 106,
     "metadata": {},
     "output_type": "execute_result"
    }
   ],
   "source": [
    "index = pc.Index('langchain')\n",
    "import random\n",
    "vectors = [[random.random() for _ in range(1536)] for v in range(5)]\n",
    "ids = list('abcde')\n",
    "index.upsert(vectors=zip(ids, vectors))"
   ]
  },
  {
   "cell_type": "code",
   "execution_count": 109,
   "id": "3670541a-e9a7-458a-be62-6f1fb12deed5",
   "metadata": {},
   "outputs": [
    {
     "data": {
      "text/plain": [
       "upserted_count: 3"
      ]
     },
     "execution_count": 109,
     "metadata": {},
     "output_type": "execute_result"
    }
   ],
   "source": [
    "vectors = [[random.random() for _ in range(1536)] for v in range(3)]\n",
    "ids = list('xyz')\n",
    "index.upsert(vectors=zip(ids, vectors), namespace='first-namespace')"
   ]
  },
  {
   "cell_type": "code",
   "execution_count": 110,
   "id": "edce8da7-08e7-4c4c-8cff-30aaea12d47a",
   "metadata": {},
   "outputs": [
    {
     "data": {
      "text/plain": [
       "upserted_count: 2"
      ]
     },
     "execution_count": 110,
     "metadata": {},
     "output_type": "execute_result"
    }
   ],
   "source": [
    "vectors = [[random.random() for _ in range(1536)] for v in range(2)]\n",
    "ids = list('qp')\n",
    "index.upsert(vectors=zip(ids, vectors), namespace='second-namespace')"
   ]
  },
  {
   "cell_type": "code",
   "execution_count": 112,
   "id": "91e6cfc2-0c0a-420c-b491-8be34d46b509",
   "metadata": {},
   "outputs": [
    {
     "data": {
      "text/plain": [
       "{'dimension': 1536,\n",
       " 'index_fullness': 0.0,\n",
       " 'namespaces': {'': {'vector_count': 8},\n",
       "                'first-namespace': {'vector_count': 3},\n",
       "                'second-namespace': {'vector_count': 2}},\n",
       " 'total_vector_count': 13}"
      ]
     },
     "execution_count": 112,
     "metadata": {},
     "output_type": "execute_result"
    }
   ],
   "source": [
    "index.describe_index_stats()"
   ]
  },
  {
   "cell_type": "code",
   "execution_count": 117,
   "id": "9158cf42-f20f-4db6-8a22-9f4c9f0c62da",
   "metadata": {},
   "outputs": [
    {
     "data": {
      "text/plain": [
       "{'namespace': 'first-namespace', 'usage': {'read_units': 1}, 'vectors': {}}"
      ]
     },
     "execution_count": 117,
     "metadata": {},
     "output_type": "execute_result"
    }
   ],
   "source": [
    "index.fetch(ids=['x'], namespace='first-namespace')"
   ]
  },
  {
   "cell_type": "code",
   "execution_count": 116,
   "id": "f02b65b4-c887-430b-b89c-935de3ef51bf",
   "metadata": {},
   "outputs": [
    {
     "data": {
      "text/plain": []
     },
     "execution_count": 116,
     "metadata": {},
     "output_type": "execute_result"
    }
   ],
   "source": [
    "index.delete(ids=['x'], namespace='first-namespace')"
   ]
  },
  {
   "cell_type": "code",
   "execution_count": 118,
   "id": "1dde54ee-3753-41a9-831f-c37150bb7f14",
   "metadata": {},
   "outputs": [
    {
     "data": {
      "text/plain": []
     },
     "execution_count": 118,
     "metadata": {},
     "output_type": "execute_result"
    }
   ],
   "source": [
    "index.delete(delete_all=True, namespace='first-namespace')"
   ]
  },
  {
   "cell_type": "code",
   "execution_count": 119,
   "id": "9ee10df3-1658-4d2c-a47d-872fe8934493",
   "metadata": {},
   "outputs": [
    {
     "data": {
      "text/plain": [
       "{'dimension': 1536,\n",
       " 'index_fullness': 0.0,\n",
       " 'namespaces': {'': {'vector_count': 8},\n",
       "                'second-namespace': {'vector_count': 2}},\n",
       " 'total_vector_count': 10}"
      ]
     },
     "execution_count": 119,
     "metadata": {},
     "output_type": "execute_result"
    }
   ],
   "source": [
    "index.describe_index_stats()"
   ]
  },
  {
   "cell_type": "code",
   "execution_count": null,
   "id": "b53039d3-b25e-4ecf-be65-6cabe3c1b48e",
   "metadata": {},
   "outputs": [],
   "source": []
  }
 ],
 "metadata": {
  "kernelspec": {
   "display_name": "Python 3 (ipykernel)",
   "language": "python",
   "name": "python3"
  },
  "language_info": {
   "codemirror_mode": {
    "name": "ipython",
    "version": 3
   },
   "file_extension": ".py",
   "mimetype": "text/x-python",
   "name": "python",
   "nbconvert_exporter": "python",
   "pygments_lexer": "ipython3",
   "version": "3.12.0"
  }
 },
 "nbformat": 4,
 "nbformat_minor": 5
}
