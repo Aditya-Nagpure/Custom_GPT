{
 "cells": [
  {
   "cell_type": "markdown",
   "id": "b7fcd975-0a01-4021-97e5-278cb0cfb6c1",
   "metadata": {},
   "source": [
    "## Splitting and Embedding Text Using LangChain"
   ]
  },
  {
   "cell_type": "code",
   "execution_count": 1,
   "id": "8f846131-bcf6-4be9-af42-1211492cb7f1",
   "metadata": {},
   "outputs": [
    {
     "data": {
      "text/plain": [
       "True"
      ]
     },
     "execution_count": 1,
     "metadata": {},
     "output_type": "execute_result"
    }
   ],
   "source": [
    "import os\n",
    "from dotenv import load_dotenv, find_dotenv\n",
    "load_dotenv(find_dotenv(), override=True)"
   ]
  },
  {
   "cell_type": "code",
   "execution_count": 4,
   "id": "684e9832-ceb2-4455-840b-eb8d907eabe7",
   "metadata": {},
   "outputs": [],
   "source": [
    "from langchain.text_splitter import RecursiveCharacterTextSplitter\n",
    "with open('files/MartinLutherKingSpeech.txt') as f:\n",
    "    LutherKing_Speech=f.read()\n",
    "    \n",
    "text_splitter = RecursiveCharacterTextSplitter(\n",
    "    chunk_size=100,#maxsize\n",
    "    chunk_overlap=20,\n",
    "    length_function=len\n",
    ")"
   ]
  },
  {
   "cell_type": "code",
   "execution_count": 10,
   "id": "770d233c-70bd-4f03-afda-bd80c9724324",
   "metadata": {},
   "outputs": [
    {
     "name": "stdout",
     "output_type": "stream",
     "text": [
      "Now you have 32\n"
     ]
    }
   ],
   "source": [
    "chunks = text_splitter.create_documents([LutherKing_Speech])\n",
    "#print(chunks[1])\n",
    "#print(chunks[10].page_content)\n",
    "print(f'Now you have {len(chunks)}')\n"
   ]
  },
  {
   "cell_type": "markdown",
   "id": "7190a39b-7962-4d89-8b9d-50cb2c00c279",
   "metadata": {},
   "source": [
    "##"
   ]
  },
  {
   "cell_type": "code",
   "execution_count": null,
   "id": "5cc2b7e5-5131-4e1d-8379-e63c0e2d6357",
   "metadata": {},
   "outputs": [],
   "source": []
  }
 ],
 "metadata": {
  "kernelspec": {
   "display_name": "Python 3 (ipykernel)",
   "language": "python",
   "name": "python3"
  },
  "language_info": {
   "codemirror_mode": {
    "name": "ipython",
    "version": 3
   },
   "file_extension": ".py",
   "mimetype": "text/x-python",
   "name": "python",
   "nbconvert_exporter": "python",
   "pygments_lexer": "ipython3",
   "version": "3.12.0"
  }
 },
 "nbformat": 4,
 "nbformat_minor": 5
}
